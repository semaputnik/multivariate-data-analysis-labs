{
 "cells": [
  {
   "cell_type": "markdown",
   "id": "6b70f500",
   "metadata": {},
   "source": [
    "# Lab 2\n",
    "\n",
    "### For this lab you need subsample with 5-10 random variables, at least half of them should be described with continuous random variable type. Target variableshould be continuous."
   ]
  },
  {
   "cell_type": "code",
   "execution_count": 90,
   "id": "6ad77ccd",
   "metadata": {},
   "outputs": [],
   "source": [
    "import pandas as pd\n",
    "import numpy as np\n",
    "import matplotlib.pyplot as plt\n",
    "import seaborn as sb\n",
    "from scipy import stats as st\n",
    "from sklearn.preprocessing import scale\n",
    "from sklearn.decomposition import PCA\n",
    "from sklearn.model_selection import train_test_split\n",
    "from sklearn import linear_model as lm"
   ]
  },
  {
   "cell_type": "code",
   "execution_count": 83,
   "id": "ec19d28a",
   "metadata": {},
   "outputs": [],
   "source": [
    "# read data\n",
    "source_data_path = \"./../tcs_stock.csv\""
   ]
  },
  {
   "cell_type": "code",
   "execution_count": 84,
   "id": "db655b3f",
   "metadata": {
    "scrolled": false
   },
   "outputs": [
    {
     "data": {
      "text/html": [
       "<div>\n",
       "<style scoped>\n",
       "    .dataframe tbody tr th:only-of-type {\n",
       "        vertical-align: middle;\n",
       "    }\n",
       "\n",
       "    .dataframe tbody tr th {\n",
       "        vertical-align: top;\n",
       "    }\n",
       "\n",
       "    .dataframe thead th {\n",
       "        text-align: right;\n",
       "    }\n",
       "</style>\n",
       "<table border=\"1\" class=\"dataframe\">\n",
       "  <thead>\n",
       "    <tr style=\"text-align: right;\">\n",
       "      <th></th>\n",
       "      <th>Date</th>\n",
       "      <th>Symbol</th>\n",
       "      <th>Series</th>\n",
       "      <th>Prev Close</th>\n",
       "      <th>Open</th>\n",
       "      <th>High</th>\n",
       "      <th>Low</th>\n",
       "      <th>Last</th>\n",
       "      <th>Close</th>\n",
       "      <th>VWAP</th>\n",
       "      <th>Volume</th>\n",
       "      <th>Turnover</th>\n",
       "      <th>Trades</th>\n",
       "      <th>Deliverable Volume</th>\n",
       "      <th>%Deliverble</th>\n",
       "    </tr>\n",
       "  </thead>\n",
       "  <tbody>\n",
       "    <tr>\n",
       "      <th>0</th>\n",
       "      <td>2015-01-01</td>\n",
       "      <td>TCS</td>\n",
       "      <td>EQ</td>\n",
       "      <td>2558.25</td>\n",
       "      <td>2567.00</td>\n",
       "      <td>2567.00</td>\n",
       "      <td>2541.00</td>\n",
       "      <td>2550.00</td>\n",
       "      <td>2545.55</td>\n",
       "      <td>2548.51</td>\n",
       "      <td>183415</td>\n",
       "      <td>4.674345e+13</td>\n",
       "      <td>8002</td>\n",
       "      <td>52870</td>\n",
       "      <td>0.2883</td>\n",
       "    </tr>\n",
       "    <tr>\n",
       "      <th>1</th>\n",
       "      <td>2015-01-02</td>\n",
       "      <td>TCS</td>\n",
       "      <td>EQ</td>\n",
       "      <td>2545.55</td>\n",
       "      <td>2551.00</td>\n",
       "      <td>2590.95</td>\n",
       "      <td>2550.60</td>\n",
       "      <td>2588.40</td>\n",
       "      <td>2579.45</td>\n",
       "      <td>2568.19</td>\n",
       "      <td>462870</td>\n",
       "      <td>1.188740e+14</td>\n",
       "      <td>27585</td>\n",
       "      <td>309350</td>\n",
       "      <td>0.6683</td>\n",
       "    </tr>\n",
       "    <tr>\n",
       "      <th>2</th>\n",
       "      <td>2015-01-05</td>\n",
       "      <td>TCS</td>\n",
       "      <td>EQ</td>\n",
       "      <td>2579.45</td>\n",
       "      <td>2581.00</td>\n",
       "      <td>2599.90</td>\n",
       "      <td>2524.65</td>\n",
       "      <td>2538.10</td>\n",
       "      <td>2540.25</td>\n",
       "      <td>2563.94</td>\n",
       "      <td>877121</td>\n",
       "      <td>2.248886e+14</td>\n",
       "      <td>43234</td>\n",
       "      <td>456728</td>\n",
       "      <td>0.5207</td>\n",
       "    </tr>\n",
       "    <tr>\n",
       "      <th>3</th>\n",
       "      <td>2015-01-06</td>\n",
       "      <td>TCS</td>\n",
       "      <td>EQ</td>\n",
       "      <td>2540.25</td>\n",
       "      <td>2529.10</td>\n",
       "      <td>2529.10</td>\n",
       "      <td>2440.00</td>\n",
       "      <td>2450.05</td>\n",
       "      <td>2446.60</td>\n",
       "      <td>2466.90</td>\n",
       "      <td>1211892</td>\n",
       "      <td>2.989615e+14</td>\n",
       "      <td>84503</td>\n",
       "      <td>714306</td>\n",
       "      <td>0.5894</td>\n",
       "    </tr>\n",
       "    <tr>\n",
       "      <th>4</th>\n",
       "      <td>2015-01-07</td>\n",
       "      <td>TCS</td>\n",
       "      <td>EQ</td>\n",
       "      <td>2446.60</td>\n",
       "      <td>2470.00</td>\n",
       "      <td>2479.15</td>\n",
       "      <td>2407.45</td>\n",
       "      <td>2426.90</td>\n",
       "      <td>2417.70</td>\n",
       "      <td>2433.96</td>\n",
       "      <td>1318166</td>\n",
       "      <td>3.208362e+14</td>\n",
       "      <td>101741</td>\n",
       "      <td>886368</td>\n",
       "      <td>0.6724</td>\n",
       "    </tr>\n",
       "    <tr>\n",
       "      <th>...</th>\n",
       "      <td>...</td>\n",
       "      <td>...</td>\n",
       "      <td>...</td>\n",
       "      <td>...</td>\n",
       "      <td>...</td>\n",
       "      <td>...</td>\n",
       "      <td>...</td>\n",
       "      <td>...</td>\n",
       "      <td>...</td>\n",
       "      <td>...</td>\n",
       "      <td>...</td>\n",
       "      <td>...</td>\n",
       "      <td>...</td>\n",
       "      <td>...</td>\n",
       "      <td>...</td>\n",
       "    </tr>\n",
       "    <tr>\n",
       "      <th>243</th>\n",
       "      <td>2015-12-24</td>\n",
       "      <td>TCS</td>\n",
       "      <td>EQ</td>\n",
       "      <td>2425.80</td>\n",
       "      <td>2421.00</td>\n",
       "      <td>2438.20</td>\n",
       "      <td>2404.00</td>\n",
       "      <td>2435.00</td>\n",
       "      <td>2434.25</td>\n",
       "      <td>2424.03</td>\n",
       "      <td>421580</td>\n",
       "      <td>1.021924e+14</td>\n",
       "      <td>21932</td>\n",
       "      <td>188670</td>\n",
       "      <td>0.4475</td>\n",
       "    </tr>\n",
       "    <tr>\n",
       "      <th>244</th>\n",
       "      <td>2015-12-28</td>\n",
       "      <td>TCS</td>\n",
       "      <td>EQ</td>\n",
       "      <td>2434.25</td>\n",
       "      <td>2428.00</td>\n",
       "      <td>2466.40</td>\n",
       "      <td>2420.20</td>\n",
       "      <td>2456.95</td>\n",
       "      <td>2462.70</td>\n",
       "      <td>2455.00</td>\n",
       "      <td>1852099</td>\n",
       "      <td>4.546896e+14</td>\n",
       "      <td>43390</td>\n",
       "      <td>1060100</td>\n",
       "      <td>0.5724</td>\n",
       "    </tr>\n",
       "    <tr>\n",
       "      <th>245</th>\n",
       "      <td>2015-12-29</td>\n",
       "      <td>TCS</td>\n",
       "      <td>EQ</td>\n",
       "      <td>2462.70</td>\n",
       "      <td>2458.35</td>\n",
       "      <td>2465.30</td>\n",
       "      <td>2445.75</td>\n",
       "      <td>2449.35</td>\n",
       "      <td>2455.80</td>\n",
       "      <td>2452.26</td>\n",
       "      <td>854262</td>\n",
       "      <td>2.094875e+14</td>\n",
       "      <td>26975</td>\n",
       "      <td>433986</td>\n",
       "      <td>0.5080</td>\n",
       "    </tr>\n",
       "    <tr>\n",
       "      <th>246</th>\n",
       "      <td>2015-12-30</td>\n",
       "      <td>TCS</td>\n",
       "      <td>EQ</td>\n",
       "      <td>2455.80</td>\n",
       "      <td>2453.05</td>\n",
       "      <td>2459.00</td>\n",
       "      <td>2412.30</td>\n",
       "      <td>2421.70</td>\n",
       "      <td>2418.30</td>\n",
       "      <td>2442.06</td>\n",
       "      <td>802881</td>\n",
       "      <td>1.960682e+14</td>\n",
       "      <td>49464</td>\n",
       "      <td>632180</td>\n",
       "      <td>0.7874</td>\n",
       "    </tr>\n",
       "    <tr>\n",
       "      <th>247</th>\n",
       "      <td>2015-12-31</td>\n",
       "      <td>TCS</td>\n",
       "      <td>EQ</td>\n",
       "      <td>2418.30</td>\n",
       "      <td>2415.75</td>\n",
       "      <td>2448.50</td>\n",
       "      <td>2407.50</td>\n",
       "      <td>2430.00</td>\n",
       "      <td>2436.85</td>\n",
       "      <td>2428.90</td>\n",
       "      <td>620159</td>\n",
       "      <td>1.506303e+14</td>\n",
       "      <td>42600</td>\n",
       "      <td>400391</td>\n",
       "      <td>0.6456</td>\n",
       "    </tr>\n",
       "  </tbody>\n",
       "</table>\n",
       "<p>248 rows × 15 columns</p>\n",
       "</div>"
      ],
      "text/plain": [
       "           Date Symbol Series  Prev Close     Open     High      Low     Last  \\\n",
       "0    2015-01-01    TCS     EQ     2558.25  2567.00  2567.00  2541.00  2550.00   \n",
       "1    2015-01-02    TCS     EQ     2545.55  2551.00  2590.95  2550.60  2588.40   \n",
       "2    2015-01-05    TCS     EQ     2579.45  2581.00  2599.90  2524.65  2538.10   \n",
       "3    2015-01-06    TCS     EQ     2540.25  2529.10  2529.10  2440.00  2450.05   \n",
       "4    2015-01-07    TCS     EQ     2446.60  2470.00  2479.15  2407.45  2426.90   \n",
       "..          ...    ...    ...         ...      ...      ...      ...      ...   \n",
       "243  2015-12-24    TCS     EQ     2425.80  2421.00  2438.20  2404.00  2435.00   \n",
       "244  2015-12-28    TCS     EQ     2434.25  2428.00  2466.40  2420.20  2456.95   \n",
       "245  2015-12-29    TCS     EQ     2462.70  2458.35  2465.30  2445.75  2449.35   \n",
       "246  2015-12-30    TCS     EQ     2455.80  2453.05  2459.00  2412.30  2421.70   \n",
       "247  2015-12-31    TCS     EQ     2418.30  2415.75  2448.50  2407.50  2430.00   \n",
       "\n",
       "       Close     VWAP   Volume      Turnover  Trades  Deliverable Volume  \\\n",
       "0    2545.55  2548.51   183415  4.674345e+13    8002               52870   \n",
       "1    2579.45  2568.19   462870  1.188740e+14   27585              309350   \n",
       "2    2540.25  2563.94   877121  2.248886e+14   43234              456728   \n",
       "3    2446.60  2466.90  1211892  2.989615e+14   84503              714306   \n",
       "4    2417.70  2433.96  1318166  3.208362e+14  101741              886368   \n",
       "..       ...      ...      ...           ...     ...                 ...   \n",
       "243  2434.25  2424.03   421580  1.021924e+14   21932              188670   \n",
       "244  2462.70  2455.00  1852099  4.546896e+14   43390             1060100   \n",
       "245  2455.80  2452.26   854262  2.094875e+14   26975              433986   \n",
       "246  2418.30  2442.06   802881  1.960682e+14   49464              632180   \n",
       "247  2436.85  2428.90   620159  1.506303e+14   42600              400391   \n",
       "\n",
       "     %Deliverble  \n",
       "0         0.2883  \n",
       "1         0.6683  \n",
       "2         0.5207  \n",
       "3         0.5894  \n",
       "4         0.6724  \n",
       "..           ...  \n",
       "243       0.4475  \n",
       "244       0.5724  \n",
       "245       0.5080  \n",
       "246       0.7874  \n",
       "247       0.6456  \n",
       "\n",
       "[248 rows x 15 columns]"
      ]
     },
     "execution_count": 84,
     "metadata": {},
     "output_type": "execute_result"
    }
   ],
   "source": [
    "row_df = pd.read_csv(source_data_path)\n",
    "row_df"
   ]
  },
  {
   "cell_type": "code",
   "execution_count": 85,
   "id": "01c53123",
   "metadata": {
    "scrolled": true
   },
   "outputs": [
    {
     "data": {
      "text/html": [
       "<div>\n",
       "<style scoped>\n",
       "    .dataframe tbody tr th:only-of-type {\n",
       "        vertical-align: middle;\n",
       "    }\n",
       "\n",
       "    .dataframe tbody tr th {\n",
       "        vertical-align: top;\n",
       "    }\n",
       "\n",
       "    .dataframe thead th {\n",
       "        text-align: right;\n",
       "    }\n",
       "</style>\n",
       "<table border=\"1\" class=\"dataframe\">\n",
       "  <thead>\n",
       "    <tr style=\"text-align: right;\">\n",
       "      <th></th>\n",
       "      <th>High</th>\n",
       "      <th>Open</th>\n",
       "      <th>Low</th>\n",
       "      <th>Last</th>\n",
       "      <th>Close</th>\n",
       "      <th>Trades</th>\n",
       "      <th>%Deliverble</th>\n",
       "    </tr>\n",
       "  </thead>\n",
       "  <tbody>\n",
       "    <tr>\n",
       "      <th>0</th>\n",
       "      <td>2567.00</td>\n",
       "      <td>2567.00</td>\n",
       "      <td>2541.00</td>\n",
       "      <td>2550.00</td>\n",
       "      <td>2545.55</td>\n",
       "      <td>8002</td>\n",
       "      <td>0.2883</td>\n",
       "    </tr>\n",
       "    <tr>\n",
       "      <th>1</th>\n",
       "      <td>2590.95</td>\n",
       "      <td>2551.00</td>\n",
       "      <td>2550.60</td>\n",
       "      <td>2588.40</td>\n",
       "      <td>2579.45</td>\n",
       "      <td>27585</td>\n",
       "      <td>0.6683</td>\n",
       "    </tr>\n",
       "    <tr>\n",
       "      <th>2</th>\n",
       "      <td>2599.90</td>\n",
       "      <td>2581.00</td>\n",
       "      <td>2524.65</td>\n",
       "      <td>2538.10</td>\n",
       "      <td>2540.25</td>\n",
       "      <td>43234</td>\n",
       "      <td>0.5207</td>\n",
       "    </tr>\n",
       "    <tr>\n",
       "      <th>3</th>\n",
       "      <td>2529.10</td>\n",
       "      <td>2529.10</td>\n",
       "      <td>2440.00</td>\n",
       "      <td>2450.05</td>\n",
       "      <td>2446.60</td>\n",
       "      <td>84503</td>\n",
       "      <td>0.5894</td>\n",
       "    </tr>\n",
       "    <tr>\n",
       "      <th>4</th>\n",
       "      <td>2479.15</td>\n",
       "      <td>2470.00</td>\n",
       "      <td>2407.45</td>\n",
       "      <td>2426.90</td>\n",
       "      <td>2417.70</td>\n",
       "      <td>101741</td>\n",
       "      <td>0.6724</td>\n",
       "    </tr>\n",
       "    <tr>\n",
       "      <th>...</th>\n",
       "      <td>...</td>\n",
       "      <td>...</td>\n",
       "      <td>...</td>\n",
       "      <td>...</td>\n",
       "      <td>...</td>\n",
       "      <td>...</td>\n",
       "      <td>...</td>\n",
       "    </tr>\n",
       "    <tr>\n",
       "      <th>243</th>\n",
       "      <td>2438.20</td>\n",
       "      <td>2421.00</td>\n",
       "      <td>2404.00</td>\n",
       "      <td>2435.00</td>\n",
       "      <td>2434.25</td>\n",
       "      <td>21932</td>\n",
       "      <td>0.4475</td>\n",
       "    </tr>\n",
       "    <tr>\n",
       "      <th>244</th>\n",
       "      <td>2466.40</td>\n",
       "      <td>2428.00</td>\n",
       "      <td>2420.20</td>\n",
       "      <td>2456.95</td>\n",
       "      <td>2462.70</td>\n",
       "      <td>43390</td>\n",
       "      <td>0.5724</td>\n",
       "    </tr>\n",
       "    <tr>\n",
       "      <th>245</th>\n",
       "      <td>2465.30</td>\n",
       "      <td>2458.35</td>\n",
       "      <td>2445.75</td>\n",
       "      <td>2449.35</td>\n",
       "      <td>2455.80</td>\n",
       "      <td>26975</td>\n",
       "      <td>0.5080</td>\n",
       "    </tr>\n",
       "    <tr>\n",
       "      <th>246</th>\n",
       "      <td>2459.00</td>\n",
       "      <td>2453.05</td>\n",
       "      <td>2412.30</td>\n",
       "      <td>2421.70</td>\n",
       "      <td>2418.30</td>\n",
       "      <td>49464</td>\n",
       "      <td>0.7874</td>\n",
       "    </tr>\n",
       "    <tr>\n",
       "      <th>247</th>\n",
       "      <td>2448.50</td>\n",
       "      <td>2415.75</td>\n",
       "      <td>2407.50</td>\n",
       "      <td>2430.00</td>\n",
       "      <td>2436.85</td>\n",
       "      <td>42600</td>\n",
       "      <td>0.6456</td>\n",
       "    </tr>\n",
       "  </tbody>\n",
       "</table>\n",
       "<p>248 rows × 7 columns</p>\n",
       "</div>"
      ],
      "text/plain": [
       "        High     Open      Low     Last    Close  Trades  %Deliverble\n",
       "0    2567.00  2567.00  2541.00  2550.00  2545.55    8002       0.2883\n",
       "1    2590.95  2551.00  2550.60  2588.40  2579.45   27585       0.6683\n",
       "2    2599.90  2581.00  2524.65  2538.10  2540.25   43234       0.5207\n",
       "3    2529.10  2529.10  2440.00  2450.05  2446.60   84503       0.5894\n",
       "4    2479.15  2470.00  2407.45  2426.90  2417.70  101741       0.6724\n",
       "..       ...      ...      ...      ...      ...     ...          ...\n",
       "243  2438.20  2421.00  2404.00  2435.00  2434.25   21932       0.4475\n",
       "244  2466.40  2428.00  2420.20  2456.95  2462.70   43390       0.5724\n",
       "245  2465.30  2458.35  2445.75  2449.35  2455.80   26975       0.5080\n",
       "246  2459.00  2453.05  2412.30  2421.70  2418.30   49464       0.7874\n",
       "247  2448.50  2415.75  2407.50  2430.00  2436.85   42600       0.6456\n",
       "\n",
       "[248 rows x 7 columns]"
      ]
     },
     "execution_count": 85,
     "metadata": {},
     "output_type": "execute_result"
    }
   ],
   "source": [
    "df = row_df[[ 'High', 'Open', 'Low', 'Last', 'Close', 'Trades', '%Deliverble']]\n",
    "\n",
    "feature_cols = ['Open', 'Low', 'Last', 'Close', 'Trades', '%Deliverble']\n",
    "features = df[feature_cols]\n",
    "target = df['High']\n",
    "\n",
    "df"
   ]
  },
  {
   "cell_type": "markdown",
   "id": "ffb56c6d",
   "metadata": {},
   "source": [
    "## Step 1. You need to make a non-parametric estimation of PDF in form of histogram and using kernel density function for MRV (or probability law in case of discrete MRV)"
   ]
  },
  {
   "cell_type": "code",
   "execution_count": null,
   "id": "692779da",
   "metadata": {},
   "outputs": [],
   "source": [
    "??"
   ]
  },
  {
   "cell_type": "markdown",
   "id": "8d21e9a2",
   "metadata": {},
   "source": [
    "## Step 2. You need to make an estimation of multivariate mathematical expectation and variance."
   ]
  },
  {
   "cell_type": "code",
   "execution_count": 51,
   "id": "8e038161",
   "metadata": {},
   "outputs": [
    {
     "data": {
      "text/plain": [
       "Open                    2542.172782\n",
       "High                    2563.580444\n",
       "Low                     2514.408468\n",
       "Last                    2538.039718\n",
       "Close                   2537.717944\n",
       "Trades                 66873.608871\n",
       "Deliverable Volume    796057.548387\n",
       "dtype: float64"
      ]
     },
     "execution_count": 51,
     "metadata": {},
     "output_type": "execute_result"
    }
   ],
   "source": [
    "df.mean()"
   ]
  },
  {
   "cell_type": "code",
   "execution_count": 52,
   "id": "4b397cb5",
   "metadata": {},
   "outputs": [
    {
     "data": {
      "text/plain": [
       "Open                  7.674758e+03\n",
       "High                  8.208064e+03\n",
       "Low                   6.881163e+03\n",
       "Last                  7.542802e+03\n",
       "Close                 7.579063e+03\n",
       "Trades                8.342223e+08\n",
       "Deliverable Volume    1.857533e+11\n",
       "dtype: float64"
      ]
     },
     "execution_count": 52,
     "metadata": {},
     "output_type": "execute_result"
    }
   ],
   "source": [
    "df.var()"
   ]
  },
  {
   "cell_type": "markdown",
   "id": "d289b60f",
   "metadata": {},
   "source": [
    "## Step 3. You need to make a non-parametric estimation of conditional distributions, mathematical expectations and variances."
   ]
  },
  {
   "cell_type": "code",
   "execution_count": 53,
   "id": "b09d858e",
   "metadata": {},
   "outputs": [],
   "source": [
    "condition = df['Trades'] >= 66000\n",
    "condition_2 = df['Trades'] < 66000\n",
    "\n",
    "df_cond = df[condition]"
   ]
  },
  {
   "cell_type": "code",
   "execution_count": 54,
   "id": "caedf0ef",
   "metadata": {
    "scrolled": true
   },
   "outputs": [
    {
     "data": {
      "image/png": "[encoded data removed]",
      "text/plain": [
       "<Figure size 432x288 with 1 Axes>"
      ]
     },
     "metadata": {
      "needs_background": "light"
     },
     "output_type": "display_data"
    }
   ],
   "source": [
    "sb.histplot(df_cond['High'], kde=True, stat=\"density\")\n",
    "plt.show()"
   ]
  },
  {
   "cell_type": "code",
   "execution_count": 55,
   "id": "b29c74e5",
   "metadata": {},
   "outputs": [
    {
     "data": {
      "image/png": "[encoded data removed]",
      "text/plain": [
       "<Figure size 432x288 with 1 Axes>"
      ]
     },
     "metadata": {
      "needs_background": "light"
     },
     "output_type": "display_data"
    }
   ],
   "source": [
    "sb.histplot(df[condition_2]['High'], kde=True, stat=\"density\")\n",
    "plt.show()"
   ]
  },
  {
   "cell_type": "code",
   "execution_count": 56,
   "id": "bdbbec45",
   "metadata": {},
   "outputs": [
    {
     "data": {
      "text/plain": [
       "Open                  2.558013e+03\n",
       "High                  2.582467e+03\n",
       "Low                   2.523619e+03\n",
       "Last                  2.550018e+03\n",
       "Close                 2.549430e+03\n",
       "Trades                9.230955e+04\n",
       "Deliverable Volume    1.067055e+06\n",
       "dtype: float64"
      ]
     },
     "execution_count": 56,
     "metadata": {},
     "output_type": "execute_result"
    }
   ],
   "source": [
    "df_cond.mean()"
   ]
  },
  {
   "cell_type": "code",
   "execution_count": 57,
   "id": "8d897fc5",
   "metadata": {},
   "outputs": [
    {
     "data": {
      "text/plain": [
       "Open                  6.191144e+03\n",
       "High                  7.031163e+03\n",
       "Low                   5.887515e+03\n",
       "Last                  6.700395e+03\n",
       "Close                 6.871748e+03\n",
       "Trades                5.982571e+08\n",
       "Deliverable Volume    1.824419e+11\n",
       "dtype: float64"
      ]
     },
     "execution_count": 57,
     "metadata": {},
     "output_type": "execute_result"
    }
   ],
   "source": [
    "df_cond.var()"
   ]
  },
  {
   "cell_type": "markdown",
   "id": "53d9ecfd",
   "metadata": {},
   "source": [
    "## Step 4. You need to make an estimation of pair correlation coefficients, confidence intervals for them and significance levels."
   ]
  },
  {
   "cell_type": "code",
   "execution_count": 65,
   "id": "9c37b594",
   "metadata": {},
   "outputs": [
    {
     "data": {
      "image/png": "[encoded data removed]",
      "text/plain": [
       "<Figure size 576x576 with 2 Axes>"
      ]
     },
     "metadata": {
      "needs_background": "light"
     },
     "output_type": "display_data"
    }
   ],
   "source": [
    "fig, ax = plt.subplots(figsize=(8,8))\n",
    "\n",
    "corr = features.corr()\n",
    "mask = np.triu(np.ones_like(corr, dtype=bool))\n",
    "sns.heatmap(corr, mask=mask, annot=True, ax=ax, vmax=1, fmt='.5g')\n",
    "\n",
    "plt.title('Correlation')\n",
    "plt.show()"
   ]
  },
  {
   "cell_type": "code",
   "execution_count": 179,
   "id": "8f20c71d",
   "metadata": {},
   "outputs": [
    {
     "name": "stdout",
     "output_type": "stream",
     "text": [
      "Open - Low\n",
      "Correlation coeff =  0.9670627443358553\n",
      "Confidence interval =  1.9196286483361922 2.170063659929501\n",
      "-----\n",
      "Open - Last\n",
      "Correlation coeff =  0.9358755281702829\n",
      "Confidence interval =  1.5785269469962178 1.8289619585895267\n",
      "-----\n",
      "Open - Close\n",
      "Correlation coeff =  0.9381587421838884\n",
      "Confidence interval =  1.59724397194783 1.847678983541139\n",
      "-----\n",
      "Open - Trades\n",
      "Correlation coeff =  0.1483773741275415\n",
      "Confidence interval =  0.02426336652397429 0.27469837811728326\n",
      "-----\n",
      "Open - %Deliverble\n",
      "Correlation coeff =  -0.006370080561552945\n",
      "Confidence interval =  -0.13158767252185857 0.11884733907145043\n",
      "-----\n",
      "Low - Last\n",
      "Correlation coeff =  0.977593184109987\n",
      "Confidence interval =  2.114917807868333 2.3653528194616418\n",
      "-----\n",
      "Low - Close\n",
      "Correlation coeff =  0.9805585991928968\n",
      "Confidence interval =  2.1866471693481864 2.4370821809414953\n",
      "-----\n",
      "Low - Trades\n",
      "Correlation coeff =  0.056923637143543565\n",
      "Confidence interval =  -0.06823226561195304 0.18220274598135594\n",
      "-----\n",
      "Low - %Deliverble\n",
      "Correlation coeff =  0.001016486390106728\n",
      "Confidence interval =  -0.12420101905645453 0.12623399253685447\n",
      "-----\n",
      "Last - Close\n",
      "Correlation coeff =  0.9981375029670907\n",
      "Confidence interval =  3.363808843674776 3.614243855268085\n",
      "-----\n",
      "Last - Trades\n",
      "Correlation coeff =  0.08267342721094455\n",
      "Confidence interval =  -0.04235494761642833 0.20808006397688067\n",
      "-----\n",
      "Last - %Deliverble\n",
      "Correlation coeff =  -0.023268581735328177\n",
      "Confidence interval =  -0.14849028830870947 0.10194472328459953\n",
      "-----\n",
      "Close - Trades\n",
      "Correlation coeff =  0.0808530078087365\n",
      "Confidence interval =  -0.04418761935900979 0.20624739223429922\n",
      "-----\n",
      "Close - %Deliverble\n",
      "Correlation coeff =  -0.025826144596257292\n",
      "Confidence interval =  -0.15104939461642033 0.09938561697688868\n",
      "-----\n",
      "Trades - %Deliverble\n",
      "Correlation coeff =  0.20148654378564215\n",
      "Confidence interval =  0.07906401231482743 0.32949902390813646\n",
      "-----\n"
     ]
    }
   ],
   "source": [
    "# Было бы круто сделать вывод табличкой - ДатаФреймом\n",
    "for i, col in enumerate(feature_cols):\n",
    "    j = i+1\n",
    "\n",
    "    # stop looping if j reach end of index\n",
    "    if j >= len(feature_cols):\n",
    "        break\n",
    "\n",
    "    for k in range(j, len(feature_cols)):\n",
    "\n",
    "        col2 = feature_cols[k]\n",
    "\n",
    "        x1, x2 = df[col], df[col2]\n",
    "        coeff, p = st.pearsonr(x1, x2)\n",
    "        coeff_z = np.arctanh(coeff)\n",
    "\n",
    "        std = 1/np.sqrt(x1.size-3)\n",
    "        alpha = 0.05\n",
    "        z = st.norm.ppf(1-alpha/2)\n",
    "        low_z, high_z = coeff_z-z*std, coeff_z+z*std\n",
    "        \n",
    "        print('%s - %s' % (col, col2))\n",
    "        print('Correlation coeff = ', coeff)\n",
    "        print('Confidence interval = ', low_z, high_z)\n",
    "        print('-----')"
   ]
  },
  {
   "cell_type": "markdown",
   "id": "7d605bac",
   "metadata": {},
   "source": [
    "## Step 5. Choose a task formulation for regression. Estimate multivariate correlation (target -predictors)."
   ]
  },
  {
   "cell_type": "markdown",
   "id": "3c8ac4fc",
   "metadata": {},
   "source": [
    "Задача - рассчитать значение High, имея набор предикторов "
   ]
  },
  {
   "cell_type": "code",
   "execution_count": 78,
   "id": "8167a92f",
   "metadata": {},
   "outputs": [
    {
     "data": {
      "image/png": "[encoded data removed]",
      "text/plain": [
       "<Figure size 1152x360 with 2 Axes>"
      ]
     },
     "metadata": {
      "needs_background": "light"
     },
     "output_type": "display_data"
    }
   ],
   "source": [
    "plt.figure(figsize=(16, 5))\n",
    "sns.heatmap(df.corr(method='pearson'), annot=True)\n",
    "plt.show()"
   ]
  },
  {
   "cell_type": "markdown",
   "id": "0d6506ba",
   "metadata": {},
   "source": [
    "Use PCA method"
   ]
  },
  {
   "cell_type": "code",
   "execution_count": 79,
   "id": "a7adf852",
   "metadata": {},
   "outputs": [],
   "source": [
    "std_df = scale(df)\n",
    "std_df = pd.DataFrame(std_df, index=df.index, columns=df.columns)"
   ]
  },
  {
   "cell_type": "code",
   "execution_count": 80,
   "id": "561baee3",
   "metadata": {
    "scrolled": true
   },
   "outputs": [
    {
     "data": {
      "text/html": [
       "<div>\n",
       "<style scoped>\n",
       "    .dataframe tbody tr th:only-of-type {\n",
       "        vertical-align: middle;\n",
       "    }\n",
       "\n",
       "    .dataframe tbody tr th {\n",
       "        vertical-align: top;\n",
       "    }\n",
       "\n",
       "    .dataframe thead th {\n",
       "        text-align: right;\n",
       "    }\n",
       "</style>\n",
       "<table border=\"1\" class=\"dataframe\">\n",
       "  <thead>\n",
       "    <tr style=\"text-align: right;\">\n",
       "      <th></th>\n",
       "      <th>High</th>\n",
       "      <th>Open</th>\n",
       "      <th>Low</th>\n",
       "      <th>Last</th>\n",
       "      <th>Close</th>\n",
       "      <th>Trades</th>\n",
       "      <th>%Deliverble</th>\n",
       "    </tr>\n",
       "  </thead>\n",
       "  <tbody>\n",
       "    <tr>\n",
       "      <th>0</th>\n",
       "      <td>0.037820</td>\n",
       "      <td>0.283970</td>\n",
       "      <td>0.321211</td>\n",
       "      <td>0.137992</td>\n",
       "      <td>0.090146</td>\n",
       "      <td>-2.042407</td>\n",
       "      <td>-4.208179</td>\n",
       "    </tr>\n",
       "    <tr>\n",
       "      <th>1</th>\n",
       "      <td>0.302709</td>\n",
       "      <td>0.100965</td>\n",
       "      <td>0.437173</td>\n",
       "      <td>0.581031</td>\n",
       "      <td>0.480330</td>\n",
       "      <td>-1.363023</td>\n",
       "      <td>-0.022430</td>\n",
       "    </tr>\n",
       "    <tr>\n",
       "      <th>2</th>\n",
       "      <td>0.401696</td>\n",
       "      <td>0.444101</td>\n",
       "      <td>0.123712</td>\n",
       "      <td>0.000696</td>\n",
       "      <td>0.029144</td>\n",
       "      <td>-0.820119</td>\n",
       "      <td>-1.648263</td>\n",
       "    </tr>\n",
       "    <tr>\n",
       "      <th>3</th>\n",
       "      <td>-0.381355</td>\n",
       "      <td>-0.149525</td>\n",
       "      <td>-0.898812</td>\n",
       "      <td>-1.015180</td>\n",
       "      <td>-1.048754</td>\n",
       "      <td>0.611609</td>\n",
       "      <td>-0.891524</td>\n",
       "    </tr>\n",
       "    <tr>\n",
       "      <th>4</th>\n",
       "      <td>-0.933805</td>\n",
       "      <td>-0.825503</td>\n",
       "      <td>-1.291997</td>\n",
       "      <td>-1.282272</td>\n",
       "      <td>-1.381388</td>\n",
       "      <td>1.209639</td>\n",
       "      <td>0.022732</td>\n",
       "    </tr>\n",
       "  </tbody>\n",
       "</table>\n",
       "</div>"
      ],
      "text/plain": [
       "       High      Open       Low      Last     Close    Trades  %Deliverble\n",
       "0  0.037820  0.283970  0.321211  0.137992  0.090146 -2.042407    -4.208179\n",
       "1  0.302709  0.100965  0.437173  0.581031  0.480330 -1.363023    -0.022430\n",
       "2  0.401696  0.444101  0.123712  0.000696  0.029144 -0.820119    -1.648263\n",
       "3 -0.381355 -0.149525 -0.898812 -1.015180 -1.048754  0.611609    -0.891524\n",
       "4 -0.933805 -0.825503 -1.291997 -1.282272 -1.381388  1.209639     0.022732"
      ]
     },
     "execution_count": 80,
     "metadata": {},
     "output_type": "execute_result"
    }
   ],
   "source": [
    "std_df.head()"
   ]
  },
  {
   "cell_type": "code",
   "execution_count": 81,
   "id": "a858f76f",
   "metadata": {
    "scrolled": true
   },
   "outputs": [
    {
     "data": {
      "image/png": "[encoded data removed]",
      "text/plain": [
       "<Figure size 432x288 with 1 Axes>"
      ]
     },
     "metadata": {
      "needs_background": "light"
     },
     "output_type": "display_data"
    }
   ],
   "source": [
    "pca = PCA().fit(std_df)\n",
    "y = np.std(pca.transform(std_df), axis=0)**2\n",
    "x = np.arange(len(y)) + 1\n",
    "plt.plot(x, y, \"o-\")\n",
    "plt.xticks(x, df.columns, rotation=60)\n",
    "plt.ylabel(\"Variance\")\n",
    "plt.show()"
   ]
  },
  {
   "cell_type": "markdown",
   "id": "6f8ed19f",
   "metadata": {},
   "source": [
    "I think that 3 features is ok. Let's use Open, Close, Trades"
   ]
  },
  {
   "cell_type": "markdown",
   "id": "26fc8db4",
   "metadata": {},
   "source": [
    "## Step 6. Build regression model and make an analysis of multicollinearity and regularization (if needed)."
   ]
  },
  {
   "cell_type": "code",
   "execution_count": 141,
   "id": "7ef1a60d",
   "metadata": {},
   "outputs": [],
   "source": [
    "train, test = train_test_split(df[['High', 'Open', 'Close', 'Low', 'Trades']].copy())\n",
    "\n",
    "train_feature = train[['Open', 'Close', 'Low', 'Trades']]\n",
    "test_feature = test[['Open', 'Close', 'Low', 'Trades']]\n",
    "\n",
    "train_target = train['High']\n",
    "test_target = test['High']\n"
   ]
  },
  {
   "cell_type": "code",
   "execution_count": 143,
   "id": "039c2c8b",
   "metadata": {},
   "outputs": [],
   "source": [
    "from sklearn.metrics import mean_squared_error, r2_score\n",
    "from tabulate import tabulate"
   ]
  },
  {
   "cell_type": "code",
   "execution_count": 170,
   "id": "79341c44",
   "metadata": {
    "scrolled": true
   },
   "outputs": [
    {
     "name": "stdout",
     "output_type": "stream",
     "text": [
      "+---------------------+---------+----------+-------------------------------------------------------------------+\n",
      "| Type                |     MSE |       R2 | Coeff                                                             |\n",
      "+=====================+=========+==========+===================================================================+\n",
      "| Least Squares model | 153.272 | 0.983746 | [ 5.07494249e-01  6.72097748e-01 -1.52136856e-01  1.38950477e-04] |\n",
      "+---------------------+---------+----------+-------------------------------------------------------------------+\n",
      "| Lasso model         | 153.272 | 0.983746 | [ 5.07494249e-01  6.72097748e-01 -1.52136856e-01  1.38950477e-04] |\n",
      "+---------------------+---------+----------+-------------------------------------------------------------------+\n",
      "| Ridge model         | 153.274 | 0.983746 | [ 5.07494249e-01  6.72097748e-01 -1.52136856e-01  1.38950477e-04] |\n",
      "+---------------------+---------+----------+-------------------------------------------------------------------+\n"
     ]
    }
   ],
   "source": [
    "tab = [[\"Type\", \"MSE\", \"R2\", \"Coeff\"]]\n",
    "\n",
    "regression = lm.LinearRegression()\n",
    "regression.fit(train_feature, train_target)\n",
    "predicted = regression.predict(test_feature)\n",
    "tab.append([\"Least Squares model\", str(mean_squared_error(test_target, predicted)), str(r2_score(test_target, predicted)), str(regr.coef_)])\n",
    "\n",
    "regression = lm.Lasso(alpha=0.0001, random_state=5)\n",
    "regression.fit(train_feature, train_target)\n",
    "predicted = regression.predict(test_feature)\n",
    "tab.append([\"Lasso model\", str(mean_squared_error(test_target, predicted)), str(r2_score(test_target, predicted)), str(regr.coef_)])\n",
    "\n",
    "regression = lm.Ridge(random_state=1)\n",
    "regression.fit(train_feature, train_target)\n",
    "predicted = regression.predict(test_feature)\n",
    "tab.append([\"Ridge model\", str(mean_squared_error(test_target, predicted)), str(r2_score(test_target, predicted)), str(regr.coef_)])\n",
    "\n",
    "print(tabulate(tab, headers=\"firstrow\", tablefmt=\"grid\"))"
   ]
  },
  {
   "cell_type": "markdown",
   "id": "c52fabd6",
   "metadata": {},
   "source": [
    "## Step 7. Analyze the quality of regression model (distribution of residuals, determination coefficient)."
   ]
  },
  {
   "cell_type": "markdown",
   "id": "6de8d88e",
   "metadata": {},
   "source": [
    "r^2 can be find above at the end of Step 6"
   ]
  },
  {
   "cell_type": "code",
   "execution_count": 168,
   "id": "a4600ed0",
   "metadata": {},
   "outputs": [
    {
     "name": "stdout",
     "output_type": "stream",
     "text": [
      "R^2 = 0.9837459902926684\n"
     ]
    }
   ],
   "source": [
    "regression = lm.LinearRegression()\n",
    "regression.fit(train_feature, train_target)\n",
    "predicted = regr.predict(test_feature)\n",
    "\n",
    "print('R^2 =', r2_score(test_target, predicted))\n"
   ]
  },
  {
   "cell_type": "code",
   "execution_count": 175,
   "id": "e4a035fb",
   "metadata": {},
   "outputs": [
    {
     "data": {
      "image/png": "[encoded data removed]",
      "text/plain": [
       "<Figure size 432x288 with 1 Axes>"
      ]
     },
     "metadata": {
      "needs_background": "light"
     },
     "output_type": "display_data"
    }
   ],
   "source": [
    "residuals = df['High'] - regression.predict(df[['Open', 'Close', 'Low', 'Trades']])\n",
    "ax = sns.histplot(residuals, kde = 'True', stat=\"density\", label=f'Distribution of residuals for {target}')"
   ]
  },
  {
   "cell_type": "code",
   "execution_count": 177,
   "id": "120e2b8e",
   "metadata": {},
   "outputs": [
    {
     "data": {
      "text/plain": [
       "KstestResult(statistic=0.4247823901156449, pvalue=4.0790645008566427e-41)"
      ]
     },
     "execution_count": 177,
     "metadata": {},
     "output_type": "execute_result"
    }
   ],
   "source": [
    "scipy.stats.kstest(residuals, 'norm', args=(residuals.mean(), residuals.var()))"
   ]
  },
  {
   "cell_type": "markdown",
   "id": "cd3ba7ce",
   "metadata": {},
   "source": [
    "residuals are not distibuted normally and idk is it good or bad in that case"
   ]
  }
 ],
 "metadata": {
  "kernelspec": {
   "display_name": "Python 3 (ipykernel)",
   "language": "python",
   "name": "python3"
  },
  "language_info": {
   "codemirror_mode": {
    "name": "ipython",
    "version": 3
   },
   "file_extension": ".py",
   "mimetype": "text/x-python",
   "name": "python",
   "nbconvert_exporter": "python",
   "pygments_lexer": "ipython3",
   "version": "3.8.10"
  }
 },
 "nbformat": 4,
 "nbformat_minor": 5
}
